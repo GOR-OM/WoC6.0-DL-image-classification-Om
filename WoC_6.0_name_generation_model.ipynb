{
 "cells": [
  {
   "cell_type": "code",
   "execution_count": 1,
   "metadata": {},
   "outputs": [],
   "source": [
    "import string"
   ]
  },
  {
   "cell_type": "code",
   "execution_count": 3,
   "metadata": {},
   "outputs": [],
   "source": [
    "# Read the dataset from the file\n",
    "file_path = \"dataset.txt\"\n",
    "with open(file_path, 'r', encoding='utf-8') as file:\n",
    "    dataset = file.read().splitlines()"
   ]
  },
  {
   "cell_type": "code",
   "execution_count": 4,
   "metadata": {},
   "outputs": [],
   "source": [
    "# Function to create character-level dictionaries\n",
    "def create_char_level_dicts(data):\n",
    "    # Initialize dictionaries\n",
    "    char_to_index = {}\n",
    "    index_to_char = {}\n",
    "\n",
    "    # Add special character for representing end of the word\n",
    "    special_char = '<END>'\n",
    "    char_set = set(''.join(data))\n",
    "    char_set.add(special_char)\n",
    "\n",
    "    # Assign indices to characters\n",
    "    for idx, char in enumerate(char_set):\n",
    "        char_to_index[char] = idx\n",
    "        index_to_char[idx] = char\n",
    "\n",
    "    return char_to_index, index_to_char"
   ]
  },
  {
   "cell_type": "code",
   "execution_count": 5,
   "metadata": {},
   "outputs": [],
   "source": [
    "# Create character-level dictionaries\n",
    "char_to_index, index_to_char = create_char_level_dicts(dataset)"
   ]
  },
  {
   "cell_type": "code",
   "execution_count": 6,
   "metadata": {},
   "outputs": [
    {
     "name": "stdout",
     "output_type": "stream",
     "text": [
      "Character to Index Dictionary:\n",
      "{'O': 0, 'Q': 1, 'f': 2, 'P': 3, 'N': 4, '¨': 5, '³': 6, '<END>': 7, 'M': 8, 'A': 9, 'q': 10, 'h': 11, 'œ': 12, 'u': 13, 'K': 14, 'c': 15, 'C': 16, 'w': 17, 'T': 18, '¡': 19, 'S': 20, 'z': 21, 'j': 22, ' ': 23, '“': 24, 'b': 25, 'W': 26, 'R': 27, 'J': 28, 'G': 29, '¥': 30, 'm': 31, 'Ã': 32, 'l': 33, '…': 34, 'H': 35, 'Y': 36, '¤': 37, 'e': 38, 'E': 39, 'o': 40, 'd': 41, 'i': 42, '¶': 43, 's': 44, 'X': 45, 'U': 46, 'n': 47, '¼': 48, '¢': 49, 'r': 50, 'y': 51, 'L': 52, 'B': 53, 'x': 54, 'g': 55, '©': 56, 'k': 57, 'D': 58, 'Z': 59, 'I': 60, 'F': 61, 'ª': 62, 'v': 63, 'a': 64, '-': 65, '«': 66, 't': 67, 'V': 68, 'p': 69}\n",
      "\n",
      "Index to Character Dictionary:\n",
      "{0: 'O', 1: 'Q', 2: 'f', 3: 'P', 4: 'N', 5: '¨', 6: '³', 7: '<END>', 8: 'M', 9: 'A', 10: 'q', 11: 'h', 12: 'œ', 13: 'u', 14: 'K', 15: 'c', 16: 'C', 17: 'w', 18: 'T', 19: '¡', 20: 'S', 21: 'z', 22: 'j', 23: ' ', 24: '“', 25: 'b', 26: 'W', 27: 'R', 28: 'J', 29: 'G', 30: '¥', 31: 'm', 32: 'Ã', 33: 'l', 34: '…', 35: 'H', 36: 'Y', 37: '¤', 38: 'e', 39: 'E', 40: 'o', 41: 'd', 42: 'i', 43: '¶', 44: 's', 45: 'X', 46: 'U', 47: 'n', 48: '¼', 49: '¢', 50: 'r', 51: 'y', 52: 'L', 53: 'B', 54: 'x', 55: 'g', 56: '©', 57: 'k', 58: 'D', 59: 'Z', 60: 'I', 61: 'F', 62: 'ª', 63: 'v', 64: 'a', 65: '-', 66: '«', 67: 't', 68: 'V', 69: 'p'}\n"
     ]
    }
   ],
   "source": [
    "# Print the dictionaries\n",
    "print(\"Character to Index Dictionary:\")\n",
    "print(char_to_index)\n",
    "\n",
    "print(\"\\nIndex to Character Dictionary:\")\n",
    "print(index_to_char)"
   ]
  },
  {
   "cell_type": "code",
   "execution_count": null,
   "metadata": {},
   "outputs": [],
   "source": []
  }
 ],
 "metadata": {
  "kernelspec": {
   "display_name": "myenv",
   "language": "python",
   "name": "python3"
  },
  "language_info": {
   "codemirror_mode": {
    "name": "ipython",
    "version": 3
   },
   "file_extension": ".py",
   "mimetype": "text/x-python",
   "name": "python",
   "nbconvert_exporter": "python",
   "pygments_lexer": "ipython3",
   "version": "3.11.7"
  }
 },
 "nbformat": 4,
 "nbformat_minor": 2
}
